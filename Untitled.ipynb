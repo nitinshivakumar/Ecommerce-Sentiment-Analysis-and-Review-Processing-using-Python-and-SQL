{
 "cells": [
  {
   "cell_type": "code",
   "execution_count": 1,
   "id": "2a140c74",
   "metadata": {},
   "outputs": [],
   "source": [
    "import pandas as pd\n",
    "\n",
    "\n",
    "\n",
    "\n",
    "# Function to read the CSV file into a DataFrame\n",
    "def read_csv():\n",
    "    df = pd.read_csv('shopping.csv')\n",
    "    # read the shopping.csv file using pandas library and return it\n",
    "    return df\n",
    "\n",
    "\n",
    "\n",
    "\n",
    "# Function to check for duplicate rows in the DataFrame\n",
    "def check_duplicates():\n",
    "    # do not edit the predefined function name\n",
    "    df = read_csv()\n",
    "    # Calculate the number of duplicate rows using the duplicated() method and sum them\n",
    "    return df.duplicated().sum()\n",
    "\n",
    "\n",
    "\n",
    "\n",
    "# Function to drop duplicate rows from the DataFrame\n",
    "def drop_duplicates():\n",
    "    # do not edit the predefined function name\n",
    "    df = read_csv()\n",
    "    # Drop duplicate rows using the drop_duplicates() method with inplace=True\n",
    "    df.drop_duplicates(inplace = True)\n",
    "    return df\n",
    "\n",
    "\n",
    "\n",
    "\n",
    "# Function to check for null (missing) values in the DataFrame\n",
    "def check_null_values():\n",
    "    # do not edit the predefined function name\n",
    "    df = drop_duplicates()\n",
    "    df = df.isnull().sum()\n",
    "    return df\n",
    "\n",
    "\n",
    "\n",
    "# Function to remove rows containing null values from the DataFrame\n",
    "def remove_null_values():\n",
    "    # do not edit the predefined function name\n",
    "    df = drop_duplicates()\n",
    "    # Drop rows containing null values using the dropna() method with inplace=True\n",
    "    df.dropna(inplace = True)\n",
    "    return df\n",
    "\n",
    "\n",
    "\n",
    "# Function to rename specific columns in the DataFrame\n",
    "def rename_columns():\n",
    "    # do not edit the predefined function name\n",
    "    df = remove_null_values()\n",
    "    # Rename columns 'reviews.text', 'reviews.title', and 'reviews.date' to 'reviews_text', 'reviews_title', and 'reviews_date' respectively\n",
    "    df = df.rename(columns={'reviews.date': 'reviews_date','reviews.text' : 'reviews_text', 'reviews.title' : 'reviews_title'})\n",
    "    return df\n",
    "\n"
   ]
  },
  {
   "cell_type": "code",
   "execution_count": 23,
   "id": "444c826f",
   "metadata": {},
   "outputs": [
    {
     "ename": "ModuleNotFoundError",
     "evalue": "No module named 'settings'",
     "output_type": "error",
     "traceback": [
      "\u001b[0;31m---------------------------------------------------------------------------\u001b[0m",
      "\u001b[0;31mModuleNotFoundError\u001b[0m                       Traceback (most recent call last)",
      "Cell \u001b[0;32mIn[23], line 5\u001b[0m\n\u001b[1;32m      3\u001b[0m \u001b[38;5;28;01mimport\u001b[39;00m \u001b[38;5;21;01mnumpy\u001b[39;00m \u001b[38;5;28;01mas\u001b[39;00m \u001b[38;5;21;01mnp\u001b[39;00m\n\u001b[1;32m      4\u001b[0m \u001b[38;5;66;03m# import module1 as t1\u001b[39;00m\n\u001b[0;32m----> 5\u001b[0m \u001b[38;5;28;01mimport\u001b[39;00m \u001b[38;5;21;01msettings\u001b[39;00m\n\u001b[1;32m      7\u001b[0m \u001b[38;5;28;01mdef\u001b[39;00m \u001b[38;5;21msentiment\u001b[39m():\n\u001b[1;32m      8\u001b[0m     df \u001b[38;5;241m=\u001b[39m rename_columns()\n",
      "\u001b[0;31mModuleNotFoundError\u001b[0m: No module named 'settings'"
     ]
    }
   ],
   "source": [
    "import nltk\n",
    "from nltk.sentiment import SentimentIntensityAnalyzer\n",
    "import numpy as np\n",
    "# import module1 as t1\n",
    "import settings\n",
    "\n",
    "def sentiment():\n",
    "    df = rename_columns()\n",
    "    sentiments = SentimentIntensityAnalyzer()\n",
    "    df['sentiment'] = df['reviews_text'].apply(lambda x: sentiments.polarity_scores(x))\n",
    "    df['sentiment'] = df['sentiment'].apply(lambda x: 'positive' if x['pos'] > x['neg'] else 'negative')\n",
    "    return df\n",
    "\n",
    "def process_text():\n",
    "    df = sentiment()\n",
    "    df['reviews_text'] = df['reviews_text'].apply(lambda x: nltk.word_tokenize(x))\n",
    "    df['reviews_text'] = df['reviews_text'].apply(lambda x: settings.normalize(x))\n",
    "\n",
    "def export_the_dataset():\n",
    "    # Call process_text() to get the cleaned dataset with sentiment analysis and tokenization\n",
    "    df = process_text()\n",
    "    # Export the cleaned dataset to a new CSV file named 'ecommerce.csv'. use index = False.\n",
    "    return df\n",
    "\n",
    "\n",
    "\n",
    "# TASK 4: Load the Cleaned dataset 'ecommerce.csv' to the database provided.\n",
    "# follow the instruction in the Task 5 description and complete the task as per it.\n",
    "\n",
    "# check if mysql table is created using \"ecommerce\"\n",
    "# Use this final dataset and upload it on the provided database for performing analysis in MySQL\n",
    "# To run this task click on the terminal and click on the run project\n",
    "\n",
    "\n",
    "\n"
   ]
  },
  {
   "cell_type": "code",
   "execution_count": 25,
   "id": "d9aad35b",
   "metadata": {},
   "outputs": [
    {
     "name": "stdout",
     "output_type": "stream",
     "text": [
      "\u001b[31mERROR: Could not find a version that satisfies the requirement settings (from versions: none)\u001b[0m\u001b[31m\r\n",
      "\u001b[0m\u001b[31mERROR: No matching distribution found for settings\u001b[0m\u001b[31m\r\n",
      "\u001b[0m"
     ]
    }
   ],
   "source": [
    "!pip3 install settings"
   ]
  },
  {
   "cell_type": "code",
   "execution_count": null,
   "id": "869f67ee",
   "metadata": {},
   "outputs": [],
   "source": []
  }
 ],
 "metadata": {
  "kernelspec": {
   "display_name": "Python 3 (ipykernel)",
   "language": "python",
   "name": "python3"
  },
  "language_info": {
   "codemirror_mode": {
    "name": "ipython",
    "version": 3
   },
   "file_extension": ".py",
   "mimetype": "text/x-python",
   "name": "python",
   "nbconvert_exporter": "python",
   "pygments_lexer": "ipython3",
   "version": "3.10.8"
  }
 },
 "nbformat": 4,
 "nbformat_minor": 5
}
